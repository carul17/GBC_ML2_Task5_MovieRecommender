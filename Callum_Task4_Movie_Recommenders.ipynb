{
 "cells": [
  {
   "cell_type": "markdown",
   "metadata": {},
   "source": [
    "# Movie Recommender Systems\n",
    "\n",
    "This notebook implements various movie recommendation approaches:\n",
    "1. Popularity-based\n",
    "2. Content-based Filtering\n",
    "3. Collaborative Filtering\n",
    "4. Matrix Factorization\n",
    "5. Hybrid Approach"
   ]
  },
  {
   "cell_type": "code",
   "execution_count": 33,
   "metadata": {},
   "outputs": [
    {
     "name": "stdout",
     "output_type": "stream",
     "text": [
      "Using Apple Metal device: mps\n"
     ]
    }
   ],
   "source": [
    "# Import required libraries\n",
    "import pandas as pd\n",
    "import numpy as np\n",
    "from sklearn.feature_extraction.text import TfidfVectorizer\n",
    "from sklearn.decomposition import TruncatedSVD\n",
    "from sklearn.metrics.pairwise import cosine_similarity\n",
    "from surprise import Dataset, Reader, SVD\n",
    "from surprise.model_selection import train_test_split\n",
    "import torch\n",
    "import warnings\n",
    "import asyncio\n",
    "from functools import lru_cache\n",
    "warnings.filterwarnings('ignore')\n",
    "\n",
    "# Setup device and optimizations for Apple Silicon\n",
    "device = torch.device('mps')\n",
    "torch.backends.mps.enable_fallback_kernels = True\n",
    "print(f\"Using Apple Metal device: {device}\")\n",
    "\n",
    "# Advanced caching mechanism\n",
    "class RecommendationCache:\n",
    "    def __init__(self, max_size=1000):\n",
    "        self.cache = {}\n",
    "        self.max_size = max_size\n",
    "    \n",
    "    @lru_cache(maxsize=1000)\n",
    "    def get_movie_features(self, movie_idx):\n",
    "        return self.latent_matrix_gpu[movie_idx]\n",
    "    \n",
    "    def get(self, key):\n",
    "        return self.cache.get(key)\n",
    "    \n",
    "    def set(self, key, value):\n",
    "        if len(self.cache) >= self.max_size:\n",
    "            self.cache.pop(next(iter(self.cache)))\n",
    "        self.cache[key] = value\n",
    "\n",
    "cache = RecommendationCache()"
   ]
  },
  {
   "cell_type": "markdown",
   "metadata": {},
   "source": [
    "## 1. Data Loading and Preprocessing"
   ]
  },
  {
   "cell_type": "code",
   "execution_count": 34,
   "metadata": {},
   "outputs": [],
   "source": [
    "# Read the datasets\n",
    "movies_df = pd.read_csv('ml-latest-small/movies.csv')\n",
    "ratings_df = pd.read_csv('ml-latest-small/ratings.csv')\n",
    "tags_df = pd.read_csv('ml-latest-small/tags.csv')\n",
    "\n",
    "# Merge tags for each movie\n",
    "tags_grouped = tags_df.groupby('movieId')['tag'].apply(lambda x: ' '.join(x)).reset_index()\n",
    "movies_with_tags = pd.merge(movies_df, tags_grouped, on='movieId', how='left')\n",
    "movies_with_tags['tag'] = movies_with_tags['tag'].fillna('')"
   ]
  },
  {
   "cell_type": "markdown",
   "metadata": {},
   "source": [
    "## 2. Popularity-based Recommender"
   ]
  },
  {
   "cell_type": "code",
   "execution_count": 35,
   "metadata": {},
   "outputs": [],
   "source": [
    "def popularity_recommender(n_recommendations=10):\n",
    "    # Calculate mean rating and number of ratings for each movie\n",
    "    movie_stats = ratings_df.groupby('movieId').agg({\n",
    "        'rating': ['count', 'mean']\n",
    "    }).reset_index()\n",
    "    \n",
    "    # Rename columns\n",
    "    movie_stats.columns = ['movieId', 'rating_count', 'rating_mean']\n",
    "    \n",
    "    # Filter movies with minimum number of ratings (e.g., 100)\n",
    "    popular_movies = movie_stats[movie_stats['rating_count'] >= 100]\n",
    "    \n",
    "    # Sort by rating mean and count\n",
    "    popular_movies = popular_movies.sort_values(['rating_mean', 'rating_count'], ascending=[False, False])\n",
    "    \n",
    "    # Get movie titles\n",
    "    recommendations = pd.merge(popular_movies, movies_df, on='movieId')\n",
    "    \n",
    "    return recommendations[['title', 'rating_mean', 'rating_count']].head(n_recommendations)"
   ]
  },
  {
   "cell_type": "markdown",
   "metadata": {},
   "source": [
    "## 3. Content-based Filtering"
   ]
  },
  {
   "cell_type": "code",
   "execution_count": 36,
   "metadata": {},
   "outputs": [],
   "source": [
    "# Create TF-IDF vectorizer and convert to dense GPU tensor\n",
    "tfidf = TfidfVectorizer(stop_words='english')\n",
    "tfidf_matrix = tfidf.fit_transform(movies_with_tags['tag'])\n",
    "\n",
    "# Convert sparse matrix to dense GPU tensor directly\n",
    "tfidf_matrix_gpu = torch.tensor(tfidf_matrix.toarray(), device=device, dtype=torch.float32)  # Use full precision for SVD\n",
    "\n",
    "# Perform SVD on GPU using torch operations\n",
    "U, S, V = torch.svd(tfidf_matrix_gpu)  # Already dense\n",
    "latent_matrix_gpu = (U[:, :100] @ torch.diag(S[:100])).to(device=device)  # Keep in full precision for stability\n",
    "\n",
    "# Cache for frequently accessed movie features\n",
    "@lru_cache(maxsize=1000)\n",
    "def get_cached_movie_features(movie_idx):\n",
    "    return latent_matrix_gpu[movie_idx]\n",
    "\n",
    "def content_based_recommender(movie_title, n_recommendations=10):\n",
    "    # Get movie index and features from cache\n",
    "    movie_idx = movies_with_tags[movies_with_tags['title'] == movie_title].index[0]\n",
    "    query_vector = get_cached_movie_features(movie_idx)\n",
    "    \n",
    "    # Batch compute similarities using optimized operations\n",
    "    similarities = torch.nn.functional.cosine_similarity(\n",
    "        query_vector.unsqueeze(0).unsqueeze(0),\n",
    "        latent_matrix_gpu.unsqueeze(0)\n",
    "    ).squeeze()\n",
    "    \n",
    "    # Get top recommendations using MPS-optimized topk\n",
    "    _, similar_indices = similarities.topk(n_recommendations + 1)\n",
    "    similar_indices = similar_indices[1:].cpu().numpy()\n",
    "    \n",
    "    # Cache the results\n",
    "    cache.set(f\"content_{movie_title}\", similar_indices)\n",
    "    \n",
    "    return movies_with_tags.iloc[similar_indices][['title', 'genres']]"
   ]
  },
  {
   "cell_type": "markdown",
   "metadata": {},
   "source": [
    "## 4. Collaborative Filtering"
   ]
  },
  {
   "cell_type": "code",
   "execution_count": 37,
   "metadata": {},
   "outputs": [],
   "source": [
    "# Create user-movie matrix\n",
    "user_movie_matrix = ratings_df.pivot(index='userId', columns='movieId', values='rating').fillna(0)\n",
    "\n",
    "# Perform SVD for collaborative filtering\n",
    "svd_collab = TruncatedSVD(n_components=100)\n",
    "latent_matrix_2 = svd_collab.fit_transform(user_movie_matrix)\n",
    "\n",
    "# Convert matrices to GPU tensors once\n",
    "latent_matrix_2_gpu = torch.tensor(latent_matrix_2, device=device, dtype=torch.float32)\n",
    "components_gpu = torch.tensor(svd_collab.components_, device=device, dtype=torch.float32)\n",
    "\n",
    "def collaborative_recommender(user_id, n_recommendations=10):\n",
    "    # Get user's latent features\n",
    "    user_idx = user_movie_matrix.index.get_loc(user_id)\n",
    "    user_features = latent_matrix_2_gpu[user_idx]\n",
    "    user_ratings = torch.tensor(user_movie_matrix.loc[user_id].values, device=device)\n",
    "    \n",
    "    # Calculate predicted ratings on GPU\n",
    "    predicted_ratings = torch.matmul(user_features, components_gpu)\n",
    "    \n",
    "    # Create mask for unrated movies\n",
    "    unrated_mask = (user_ratings == 0)\n",
    "    \n",
    "    # Set rated movies to negative infinity to exclude them\n",
    "    predictions = predicted_ratings.clone()\n",
    "    predictions[~unrated_mask] = float('-inf')\n",
    "    \n",
    "    # Get top recommendations\n",
    "    _, indices = torch.topk(predictions, n_recommendations)\n",
    "    top_movie_ids = user_movie_matrix.columns[indices.cpu().numpy()]\n",
    "    \n",
    "    # Get recommended movies\n",
    "    recommended_movies = movies_df[movies_df['movieId'].isin(top_movie_ids)]\n",
    "    return recommended_movies[['title', 'genres']]"
   ]
  },
  {
   "cell_type": "markdown",
   "metadata": {},
   "source": [
    "## 5. Matrix Factorization using Surprise"
   ]
  },
  {
   "cell_type": "code",
   "execution_count": 38,
   "metadata": {},
   "outputs": [],
   "source": [
    "# Prepare data for Surprise\n",
    "reader = Reader(rating_scale=(0.5, 5))\n",
    "data = Dataset.load_from_df(ratings_df[['userId', 'movieId', 'rating']], reader)\n",
    "\n",
    "# Split data\n",
    "trainset, testset = train_test_split(data, test_size=0.25, random_state=42)\n",
    "\n",
    "# Train SVD model\n",
    "svd_model = SVD(n_factors=100, random_state=42)\n",
    "svd_model.fit(trainset)\n",
    "\n",
    "# Convert SVD matrices to GPU tensors once\n",
    "svd_pu = torch.tensor(svd_model.pu, device=device, dtype=torch.float32)\n",
    "svd_qi = torch.tensor(svd_model.qi, device=device, dtype=torch.float32)\n",
    "svd_bu = torch.tensor(svd_model.bu, device=device, dtype=torch.float32)\n",
    "svd_bi = torch.tensor(svd_model.bi, device=device, dtype=torch.float32)\n",
    "svd_mu = torch.tensor([svd_model.trainset.global_mean], device=device, dtype=torch.float32)\n",
    "\n",
    "def matrix_factorization_recommender(user_id, n_recommendations=10):\n",
    "    # Get all movies\n",
    "    all_movies = movies_df['movieId'].unique()\n",
    "    \n",
    "    # Get user's rated movies\n",
    "    rated_movies = ratings_df[ratings_df['userId'] == user_id]['movieId'].unique()\n",
    "    \n",
    "    # Get unrated movies\n",
    "    unrated_movies = np.setdiff1d(all_movies, rated_movies)\n",
    "    \n",
    "    # Get user index in SVD model\n",
    "    user_inner_id = svd_model.trainset.to_inner_uid(user_id)\n",
    "    \n",
    "    # Get movie indices in SVD model\n",
    "    movie_inner_ids = [svd_model.trainset.to_inner_iid(movie_id) for movie_id in unrated_movies]\n",
    "    \n",
    "    # Convert to GPU tensors\n",
    "    user_factors = svd_pu[user_inner_id]\n",
    "    movie_factors = svd_qi[movie_inner_ids]\n",
    "    user_bias = svd_bu[user_inner_id]\n",
    "    movie_biases = svd_bi[movie_inner_ids]\n",
    "    \n",
    "    # Calculate predictions on GPU\n",
    "    predictions = torch.matmul(user_factors, movie_factors.T) + user_bias + movie_biases + svd_mu\n",
    "    \n",
    "    # Get top recommendations\n",
    "    _, indices = torch.topk(predictions, n_recommendations)\n",
    "    recommended_movie_ids = [unrated_movies[idx] for idx in indices.cpu().numpy()]\n",
    "    \n",
    "    # Get recommended movies\n",
    "    recommended_movies = movies_df[movies_df['movieId'].isin(recommended_movie_ids)]\n",
    "    return recommended_movies[['title', 'genres']]"
   ]
  },
  {
   "cell_type": "markdown",
   "metadata": {},
   "source": [
    "## 6. Hybrid Recommender"
   ]
  },
  {
   "cell_type": "code",
   "execution_count": 39,
   "metadata": {},
   "outputs": [],
   "source": [
    "async def hybrid_recommender(user_id, movie_title, n_recommendations=10):\n",
    "    # Get movie index for content-based\n",
    "    movie_idx = movies_with_tags[movies_with_tags['title'] == movie_title].index[0]\n",
    "    query_vector = get_cached_movie_features(movie_idx)\n",
    "    \n",
    "    # Get user features for collaborative\n",
    "    user_idx = user_movie_matrix.index.get_loc(user_id)\n",
    "    user_features = latent_matrix_2_gpu[user_idx]\n",
    "    user_ratings = torch.tensor(user_movie_matrix.loc[user_id].values, device=device, dtype=torch.float16)\n",
    "    \n",
    "    # Batch compute all similarities and predictions on GPU\n",
    "    content_similarities = torch.nn.functional.cosine_similarity(\n",
    "        query_vector.unsqueeze(0).unsqueeze(0),\n",
    "        latent_matrix_gpu.unsqueeze(0)\n",
    "    ).squeeze()\n",
    "    \n",
    "    collab_predictions = torch.matmul(user_features, components_gpu)\n",
    "    unrated_mask = (user_ratings == 0)\n",
    "    collab_predictions[~unrated_mask] = float('-inf')\n",
    "    \n",
    "    # Get user index in SVD model for matrix factorization\n",
    "    user_inner_id = svd_model.trainset.to_inner_uid(user_id)\n",
    "    user_factors = svd_pu[user_inner_id]\n",
    "    movie_factors = svd_qi\n",
    "    movie_biases = svd_bi\n",
    "    mf_predictions = torch.matmul(user_factors, movie_factors.T) + svd_bu[user_inner_id] + movie_biases + svd_mu\n",
    "    \n",
    "    # Normalize scores to [0,1] range\n",
    "    content_scores = (content_similarities - content_similarities.min()) / (content_similarities.max() - content_similarities.min())\n",
    "    collab_scores = (collab_predictions - collab_predictions[unrated_mask].min()) / (collab_predictions[unrated_mask].max() - collab_predictions[unrated_mask].min())\n",
    "    mf_scores = (mf_predictions - mf_predictions.min()) / (mf_predictions.max() - mf_predictions.min())\n",
    "    \n",
    "    # Combine scores with weights\n",
    "    combined_scores = (content_scores * 0.3 + collab_scores * 0.4 + mf_scores * 0.3)\n",
    "    \n",
    "    # Get top recommendations\n",
    "    _, indices = combined_scores.topk(n_recommendations)\n",
    "    indices = indices.cpu().numpy()\n",
    "    \n",
    "    # Get recommended movies\n",
    "    recommended_movies = movies_df.iloc[indices][['title', 'genres']]\n",
    "    recommended_movies['scores'] = combined_scores[indices].cpu().numpy()\n",
    "    recommended_movies['content_score'] = content_scores[indices].cpu().numpy()\n",
    "    recommended_movies['collab_score'] = collab_scores[indices].cpu().numpy()\n",
    "    recommended_movies['mf_score'] = mf_scores[indices].cpu().numpy()\n",
    "    \n",
    "    # Cache the results\n",
    "    cache.set(f\"hybrid_{user_id}_{movie_title}\", indices)\n",
    "    \n",
    "    return recommended_movies.sort_values('scores', ascending=False)"
   ]
  },
  {
   "cell_type": "markdown",
   "metadata": {},
   "source": [
    "## 7. Example Usage"
   ]
  },
  {
   "cell_type": "code",
   "execution_count": 40,
   "metadata": {},
   "outputs": [
    {
     "name": "stdout",
     "output_type": "stream",
     "text": [
      "Popular Movies:\n",
      "                              title  rating_mean  rating_count\n",
      "0  Shawshank Redemption, The (1994)     4.429022           317\n",
      "1             Godfather, The (1972)     4.289062           192\n",
      "2                 Fight Club (1999)     4.272936           218\n",
      "3    Godfather: Part II, The (1974)     4.259690           129\n",
      "4              Departed, The (2006)     4.252336           107\n",
      "5                 Goodfellas (1990)     4.250000           126\n",
      "6                 Casablanca (1942)     4.240000           100\n",
      "7           Dark Knight, The (2008)     4.238255           149\n",
      "8        Usual Suspects, The (1995)     4.237745           204\n",
      "9        Princess Bride, The (1987)     4.232394           142\n",
      "\n",
      "Content-based Recommendations for 'Toy Story (1995)':\n",
      "                                   title  \\\n",
      "0                       Toy Story (1995)   \n",
      "5                            Heat (1995)   \n",
      "13                          Nixon (1995)   \n",
      "6                         Sabrina (1995)   \n",
      "2                Grumpier Old Men (1995)   \n",
      "3               Waiting to Exhale (1995)   \n",
      "1                         Jumanji (1995)   \n",
      "4     Father of the Bride Part II (1995)   \n",
      "42  How to Make an American Quilt (1995)   \n",
      "37                    Richard III (1995)   \n",
      "\n",
      "                                         genres  \n",
      "0   Adventure|Animation|Children|Comedy|Fantasy  \n",
      "5                         Action|Crime|Thriller  \n",
      "13                                        Drama  \n",
      "6                                Comedy|Romance  \n",
      "2                                Comedy|Romance  \n",
      "3                          Comedy|Drama|Romance  \n",
      "1                    Adventure|Children|Fantasy  \n",
      "4                                        Comedy  \n",
      "42                                Drama|Romance  \n",
      "37                                    Drama|War  \n",
      "\n",
      "Collaborative Filtering Recommendations for user 1:\n"
     ]
    },
    {
     "ename": "TypeError",
     "evalue": "Cannot convert a MPS Tensor to float64 dtype as the MPS framework doesn't support float64. Please use float32 instead.",
     "output_type": "error",
     "traceback": [
      "\u001b[31m---------------------------------------------------------------------------\u001b[39m",
      "\u001b[31mTypeError\u001b[39m                                 Traceback (most recent call last)",
      "\u001b[36mCell\u001b[39m\u001b[36m \u001b[39m\u001b[32mIn[40]\u001b[39m\u001b[32m, line 9\u001b[39m\n\u001b[32m      6\u001b[39m \u001b[38;5;28mprint\u001b[39m(content_based_recommender(\u001b[33m'\u001b[39m\u001b[33mToy Story (1995)\u001b[39m\u001b[33m'\u001b[39m))\n\u001b[32m      8\u001b[39m \u001b[38;5;28mprint\u001b[39m(\u001b[33m\"\u001b[39m\u001b[38;5;130;01m\\n\u001b[39;00m\u001b[33mCollaborative Filtering Recommendations for user 1:\u001b[39m\u001b[33m\"\u001b[39m)\n\u001b[32m----> \u001b[39m\u001b[32m9\u001b[39m \u001b[38;5;28mprint\u001b[39m(\u001b[43mcollaborative_recommender\u001b[49m\u001b[43m(\u001b[49m\u001b[32;43m1\u001b[39;49m\u001b[43m)\u001b[49m)\n\u001b[32m     11\u001b[39m \u001b[38;5;28mprint\u001b[39m(\u001b[33m\"\u001b[39m\u001b[38;5;130;01m\\n\u001b[39;00m\u001b[33mMatrix Factorization Recommendations for user 1:\u001b[39m\u001b[33m\"\u001b[39m)\n\u001b[32m     12\u001b[39m \u001b[38;5;28mprint\u001b[39m(matrix_factorization_recommender(\u001b[32m1\u001b[39m))\n",
      "\u001b[36mCell\u001b[39m\u001b[36m \u001b[39m\u001b[32mIn[37]\u001b[39m\u001b[32m, line 16\u001b[39m, in \u001b[36mcollaborative_recommender\u001b[39m\u001b[34m(user_id, n_recommendations)\u001b[39m\n\u001b[32m     14\u001b[39m user_idx = user_movie_matrix.index.get_loc(user_id)\n\u001b[32m     15\u001b[39m user_features = latent_matrix_2_gpu[user_idx]\n\u001b[32m---> \u001b[39m\u001b[32m16\u001b[39m user_ratings = \u001b[43mtorch\u001b[49m\u001b[43m.\u001b[49m\u001b[43mtensor\u001b[49m\u001b[43m(\u001b[49m\u001b[43muser_movie_matrix\u001b[49m\u001b[43m.\u001b[49m\u001b[43mloc\u001b[49m\u001b[43m[\u001b[49m\u001b[43muser_id\u001b[49m\u001b[43m]\u001b[49m\u001b[43m.\u001b[49m\u001b[43mvalues\u001b[49m\u001b[43m,\u001b[49m\u001b[43m \u001b[49m\u001b[43mdevice\u001b[49m\u001b[43m=\u001b[49m\u001b[43mdevice\u001b[49m\u001b[43m)\u001b[49m\n\u001b[32m     18\u001b[39m \u001b[38;5;66;03m# Calculate predicted ratings on GPU\u001b[39;00m\n\u001b[32m     19\u001b[39m predicted_ratings = torch.matmul(user_features, components_gpu)\n",
      "\u001b[31mTypeError\u001b[39m: Cannot convert a MPS Tensor to float64 dtype as the MPS framework doesn't support float64. Please use float32 instead."
     ]
    }
   ],
   "source": [
    "# Example usage\n",
    "print(\"Popular Movies:\")\n",
    "print(popularity_recommender())\n",
    "\n",
    "print(\"\\nContent-based Recommendations for 'Toy Story (1995)':\")\n",
    "print(content_based_recommender('Toy Story (1995)'))\n",
    "\n",
    "print(\"\\nCollaborative Filtering Recommendations for user 1:\")\n",
    "print(collaborative_recommender(1))\n",
    "\n",
    "print(\"\\nMatrix Factorization Recommendations for user 1:\")\n",
    "print(matrix_factorization_recommender(1))\n",
    "\n",
    "print(\"\\nHybrid Recommendations for user 1 and 'Toy Story (1995)':\")\n",
    "print(hybrid_recommender(1, 'Toy Story (1995)'))"
   ]
  }
 ],
 "metadata": {
  "kernelspec": {
   "display_name": ".venv",
   "language": "python",
   "name": "python3"
  },
  "language_info": {
   "codemirror_mode": {
    "name": "ipython",
    "version": 3
   },
   "file_extension": ".py",
   "mimetype": "text/x-python",
   "name": "python",
   "nbconvert_exporter": "python",
   "pygments_lexer": "ipython3",
   "version": "3.11.11"
  }
 },
 "nbformat": 4,
 "nbformat_minor": 4
}
