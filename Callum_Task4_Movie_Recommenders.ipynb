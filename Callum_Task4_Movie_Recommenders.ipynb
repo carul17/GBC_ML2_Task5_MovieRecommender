{
 "cells": [
  {
   "cell_type": "markdown",
   "metadata": {},
   "source": [
    "# Movie Recommender Systems\n",
    "\n",
    "This notebook implements various movie recommendation approaches:\n",
    "1. Popularity-based\n",
    "2. Content-based Filtering\n",
    "3. Collaborative Filtering\n",
    "4. Matrix Factorization\n",
    "5. Hybrid Approach"
   ]
  },
  {
   "cell_type": "code",
   "execution_count": 1,
   "metadata": {},
   "outputs": [],
   "source": [
    "# Import required libraries\n",
    "import pandas as pd\n",
    "import numpy as np\n",
    "from sklearn.feature_extraction.text import TfidfVectorizer\n",
    "from sklearn.decomposition import TruncatedSVD\n",
    "from sklearn.metrics.pairwise import cosine_similarity\n",
    "from surprise import Dataset, Reader, SVD\n",
    "from surprise.model_selection import train_test_split\n",
    "import torch\n",
    "import warnings\n",
    "warnings.filterwarnings('ignore')"
   ]
  },
  {
   "cell_type": "markdown",
   "metadata": {},
   "source": [
    "## 1. Data Loading and Preprocessing"
   ]
  },
  {
   "cell_type": "code",
   "execution_count": 2,
   "metadata": {},
   "outputs": [],
   "source": [
    "# Read the datasets\n",
    "movies_df = pd.read_csv('ml-latest-small/movies.csv')\n",
    "ratings_df = pd.read_csv('ml-latest-small/ratings.csv')\n",
    "tags_df = pd.read_csv('ml-latest-small/tags.csv')\n",
    "\n",
    "# Merge tags for each movie\n",
    "tags_grouped = tags_df.groupby('movieId')['tag'].apply(lambda x: ' '.join(x)).reset_index()\n",
    "movies_with_tags = pd.merge(movies_df, tags_grouped, on='movieId', how='left')\n",
    "movies_with_tags['tag'] = movies_with_tags['tag'].fillna('')"
   ]
  },
  {
   "cell_type": "markdown",
   "metadata": {},
   "source": [
    "## 2. Popularity-based Recommender"
   ]
  },
  {
   "cell_type": "code",
   "execution_count": 3,
   "metadata": {},
   "outputs": [],
   "source": [
    "def popularity_recommender(n_recommendations=10):\n",
    "    # Calculate mean rating and number of ratings for each movie\n",
    "    movie_stats = ratings_df.groupby('movieId').agg({\n",
    "        'rating': ['count', 'mean']\n",
    "    }).reset_index()\n",
    "    \n",
    "    # Rename columns\n",
    "    movie_stats.columns = ['movieId', 'rating_count', 'rating_mean']\n",
    "    \n",
    "    # Filter movies with minimum number of ratings (e.g., 100)\n",
    "    popular_movies = movie_stats[movie_stats['rating_count'] >= 100]\n",
    "    \n",
    "    # Sort by rating mean and count\n",
    "    popular_movies = popular_movies.sort_values(['rating_mean', 'rating_count'], ascending=[False, False])\n",
    "    \n",
    "    # Get movie titles\n",
    "    recommendations = pd.merge(popular_movies, movies_df, on='movieId')\n",
    "    \n",
    "    return recommendations[['title', 'rating_mean', 'rating_count']].head(n_recommendations)"
   ]
  },
  {
   "cell_type": "markdown",
   "metadata": {},
   "source": [
    "## 3. Content-based Filtering"
   ]
  },
  {
   "cell_type": "code",
   "execution_count": 4,
   "metadata": {},
   "outputs": [],
   "source": [
    "# Create TF-IDF vectorizer\n",
    "tfidf = TfidfVectorizer(stop_words='english')\n",
    "\n",
    "# Create document-term matrix\n",
    "tfidf_matrix = tfidf.fit_transform(movies_with_tags['tag'])\n",
    "\n",
    "# Perform dimensionality reduction using TruncatedSVD\n",
    "svd = TruncatedSVD(n_components=100)\n",
    "latent_matrix_1 = svd.fit_transform(tfidf_matrix)\n",
    "\n",
    "def content_based_recommender(movie_title, n_recommendations=10):\n",
    "    # Get movie index\n",
    "    movie_idx = movies_with_tags[movies_with_tags['title'] == movie_title].index[0]\n",
    "    \n",
    "    # Calculate similarity scores\n",
    "    movie_similarities = cosine_similarity([latent_matrix_1[movie_idx]], latent_matrix_1)[0]\n",
    "    \n",
    "    # Get top similar movies\n",
    "    similar_indices = movie_similarities.argsort()[::-1][1:n_recommendations+1]\n",
    "    \n",
    "    return movies_with_tags.iloc[similar_indices][['title', 'genres']]"
   ]
  },
  {
   "cell_type": "markdown",
   "metadata": {},
   "source": [
    "## 4. Collaborative Filtering"
   ]
  },
  {
   "cell_type": "code",
   "execution_count": 5,
   "metadata": {},
   "outputs": [],
   "source": [
    "# Create user-movie matrix\n",
    "user_movie_matrix = ratings_df.pivot(index='userId', columns='movieId', values='rating').fillna(0)\n",
    "\n",
    "# Perform SVD for collaborative filtering\n",
    "svd_collab = TruncatedSVD(n_components=100)\n",
    "latent_matrix_2 = svd_collab.fit_transform(user_movie_matrix)\n",
    "\n",
    "def collaborative_recommender(user_id, n_recommendations=10):\n",
    "    # Get user's latent features\n",
    "    user_idx = user_movie_matrix.index.get_loc(user_id)\n",
    "    user_features = latent_matrix_2[user_idx]\n",
    "    \n",
    "    # Calculate predicted ratings\n",
    "    predicted_ratings = np.dot(user_features, svd_collab.components_)\n",
    "    \n",
    "    # Get movies user hasn't rated\n",
    "    user_ratings = user_movie_matrix.loc[user_id]\n",
    "    unrated_movies = user_ratings[user_ratings == 0].index\n",
    "    \n",
    "    # Get top recommendations\n",
    "    movie_indices = (-predicted_ratings[unrated_movies]).argsort()[:n_recommendations]\n",
    "    recommended_movies = movies_df[movies_df['movieId'].isin(unrated_movies[movie_indices])]\n",
    "    \n",
    "    return recommended_movies[['title', 'genres']]"
   ]
  },
  {
   "cell_type": "markdown",
   "metadata": {},
   "source": [
    "## 5. Matrix Factorization using Surprise"
   ]
  },
  {
   "cell_type": "code",
   "execution_count": 6,
   "metadata": {},
   "outputs": [],
   "source": [
    "# Prepare data for Surprise\n",
    "reader = Reader(rating_scale=(0.5, 5))\n",
    "data = Dataset.load_from_df(ratings_df[['userId', 'movieId', 'rating']], reader)\n",
    "\n",
    "# Split data\n",
    "trainset, testset = train_test_split(data, test_size=0.25, random_state=42)\n",
    "\n",
    "# Train SVD model\n",
    "svd_model = SVD(n_factors=100, random_state=42)\n",
    "svd_model.fit(trainset)\n",
    "\n",
    "def matrix_factorization_recommender(user_id, n_recommendations=10):\n",
    "    # Get all movies\n",
    "    all_movies = movies_df['movieId'].unique()\n",
    "    \n",
    "    # Get user's rated movies\n",
    "    rated_movies = ratings_df[ratings_df['userId'] == user_id]['movieId'].unique()\n",
    "    \n",
    "    # Get unrated movies\n",
    "    unrated_movies = np.setdiff1d(all_movies, rated_movies)\n",
    "    \n",
    "    # Predict ratings for unrated movies\n",
    "    predictions = [svd_model.predict(user_id, movie_id) for movie_id in unrated_movies]\n",
    "    \n",
    "    # Sort predictions\n",
    "    sorted_predictions = sorted(predictions, key=lambda x: x.est, reverse=True)[:n_recommendations]\n",
    "    \n",
    "    # Get recommended movies\n",
    "    recommended_movies = movies_df[movies_df['movieId'].isin([pred.iid for pred in sorted_predictions])]\n",
    "    \n",
    "    return recommended_movies[['title', 'genres']]"
   ]
  },
  {
   "cell_type": "markdown",
   "metadata": {},
   "source": [
    "## 6. Hybrid Recommender"
   ]
  },
  {
   "cell_type": "code",
   "execution_count": 7,
   "metadata": {},
   "outputs": [],
   "source": [
    "def hybrid_recommender(user_id, movie_title, n_recommendations=10):\n",
    "    # Get recommendations from each method\n",
    "    content_recs = content_based_recommender(movie_title, n_recommendations)\n",
    "    collab_recs = collaborative_recommender(user_id, n_recommendations)\n",
    "    mf_recs = matrix_factorization_recommender(user_id, n_recommendations)\n",
    "    \n",
    "    # Combine recommendations\n",
    "    all_recs = pd.concat([\n",
    "        content_recs.assign(method='content'),\n",
    "        collab_recs.assign(method='collaborative'),\n",
    "        mf_recs.assign(method='matrix_factorization')\n",
    "    ])\n",
    "    \n",
    "    # Remove duplicates and sort by frequency of appearance\n",
    "    final_recs = all_recs.groupby('title').agg({\n",
    "        'genres': 'first',\n",
    "        'method': lambda x: ', '.join(x)\n",
    "    }).reset_index()\n",
    "    \n",
    "    final_recs['recommendation_strength'] = final_recs['method'].str.count(',')\n",
    "    \n",
    "    return final_recs.sort_values('recommendation_strength', ascending=False).head(n_recommendations)"
   ]
  },
  {
   "cell_type": "markdown",
   "metadata": {},
   "source": [
    "## 7. Example Usage"
   ]
  },
  {
   "cell_type": "code",
   "execution_count": 8,
   "metadata": {},
   "outputs": [
    {
     "name": "stdout",
     "output_type": "stream",
     "text": [
      "Popular Movies:\n",
      "                              title  rating_mean  rating_count\n",
      "0  Shawshank Redemption, The (1994)     4.429022           317\n",
      "1             Godfather, The (1972)     4.289062           192\n",
      "2                 Fight Club (1999)     4.272936           218\n",
      "3    Godfather: Part II, The (1974)     4.259690           129\n",
      "4              Departed, The (2006)     4.252336           107\n",
      "5                 Goodfellas (1990)     4.250000           126\n",
      "6                 Casablanca (1942)     4.240000           100\n",
      "7           Dark Knight, The (2008)     4.238255           149\n",
      "8        Usual Suspects, The (1995)     4.237745           204\n",
      "9        Princess Bride, The (1987)     4.232394           142\n",
      "\n",
      "Content-based Recommendations for 'Toy Story (1995)':\n",
      "                                 title  \\\n",
      "1757              Bug's Life, A (1998)   \n",
      "8695  Guardians of the Galaxy 2 (2017)   \n",
      "2355                Toy Story 2 (1999)   \n",
      "8123                Croods, The (2013)   \n",
      "2077            Iron Giant, The (1999)   \n",
      "6455         Meet the Robinsons (2007)   \n",
      "2250   Who Framed Roger Rabbit? (1988)   \n",
      "921         Blues Brothers, The (1980)   \n",
      "8142   Invincible Iron Man, The (2007)   \n",
      "8546                 Big Hero 6 (2014)   \n",
      "\n",
      "                                                 genres  \n",
      "1757                Adventure|Animation|Children|Comedy  \n",
      "8695                            Action|Adventure|Sci-Fi  \n",
      "2355        Adventure|Animation|Children|Comedy|Fantasy  \n",
      "8123                         Adventure|Animation|Comedy  \n",
      "2077          Adventure|Animation|Children|Drama|Sci-Fi  \n",
      "6455  Action|Adventure|Animation|Children|Comedy|Sci-Fi  \n",
      "2250  Adventure|Animation|Children|Comedy|Crime|Fant...  \n",
      "921                               Action|Comedy|Musical  \n",
      "8142                                          Animation  \n",
      "8546                            Action|Animation|Comedy  \n",
      "\n",
      "Collaborative Filtering Recommendations for user 1:\n"
     ]
    },
    {
     "ename": "IndexError",
     "evalue": "index 25746 is out of bounds for axis 0 with size 9724",
     "output_type": "error",
     "traceback": [
      "\u001b[31m---------------------------------------------------------------------------\u001b[39m",
      "\u001b[31mIndexError\u001b[39m                                Traceback (most recent call last)",
      "\u001b[36mCell\u001b[39m\u001b[36m \u001b[39m\u001b[32mIn[8]\u001b[39m\u001b[32m, line 9\u001b[39m\n\u001b[32m      6\u001b[39m \u001b[38;5;28mprint\u001b[39m(content_based_recommender(\u001b[33m'\u001b[39m\u001b[33mToy Story (1995)\u001b[39m\u001b[33m'\u001b[39m))\n\u001b[32m      8\u001b[39m \u001b[38;5;28mprint\u001b[39m(\u001b[33m\"\u001b[39m\u001b[38;5;130;01m\\n\u001b[39;00m\u001b[33mCollaborative Filtering Recommendations for user 1:\u001b[39m\u001b[33m\"\u001b[39m)\n\u001b[32m----> \u001b[39m\u001b[32m9\u001b[39m \u001b[38;5;28mprint\u001b[39m(\u001b[43mcollaborative_recommender\u001b[49m\u001b[43m(\u001b[49m\u001b[32;43m1\u001b[39;49m\u001b[43m)\u001b[49m)\n\u001b[32m     11\u001b[39m \u001b[38;5;28mprint\u001b[39m(\u001b[33m\"\u001b[39m\u001b[38;5;130;01m\\n\u001b[39;00m\u001b[33mMatrix Factorization Recommendations for user 1:\u001b[39m\u001b[33m\"\u001b[39m)\n\u001b[32m     12\u001b[39m \u001b[38;5;28mprint\u001b[39m(matrix_factorization_recommender(\u001b[32m1\u001b[39m))\n",
      "\u001b[36mCell\u001b[39m\u001b[36m \u001b[39m\u001b[32mIn[5]\u001b[39m\u001b[32m, line 21\u001b[39m, in \u001b[36mcollaborative_recommender\u001b[39m\u001b[34m(user_id, n_recommendations)\u001b[39m\n\u001b[32m     18\u001b[39m unrated_movies = user_ratings[user_ratings == \u001b[32m0\u001b[39m].index\n\u001b[32m     20\u001b[39m \u001b[38;5;66;03m# Get top recommendations\u001b[39;00m\n\u001b[32m---> \u001b[39m\u001b[32m21\u001b[39m movie_indices = (-\u001b[43mpredicted_ratings\u001b[49m\u001b[43m[\u001b[49m\u001b[43munrated_movies\u001b[49m\u001b[43m]\u001b[49m).argsort()[:n_recommendations]\n\u001b[32m     22\u001b[39m recommended_movies = movies_df[movies_df[\u001b[33m'\u001b[39m\u001b[33mmovieId\u001b[39m\u001b[33m'\u001b[39m].isin(unrated_movies[movie_indices])]\n\u001b[32m     24\u001b[39m \u001b[38;5;28;01mreturn\u001b[39;00m recommended_movies[[\u001b[33m'\u001b[39m\u001b[33mtitle\u001b[39m\u001b[33m'\u001b[39m, \u001b[33m'\u001b[39m\u001b[33mgenres\u001b[39m\u001b[33m'\u001b[39m]]\n",
      "\u001b[31mIndexError\u001b[39m: index 25746 is out of bounds for axis 0 with size 9724"
     ]
    }
   ],
   "source": [
    "# Example usage\n",
    "print(\"Popular Movies:\")\n",
    "print(popularity_recommender())\n",
    "\n",
    "print(\"\\nContent-based Recommendations for 'Toy Story (1995)':\")\n",
    "print(content_based_recommender('Toy Story (1995)'))\n",
    "\n",
    "print(\"\\nCollaborative Filtering Recommendations for user 1:\")\n",
    "print(collaborative_recommender(1))\n",
    "\n",
    "print(\"\\nMatrix Factorization Recommendations for user 1:\")\n",
    "print(matrix_factorization_recommender(1))\n",
    "\n",
    "print(\"\\nHybrid Recommendations for user 1 and 'Toy Story (1995)':\")\n",
    "print(hybrid_recommender(1, 'Toy Story (1995)'))"
   ]
  }
 ],
 "metadata": {
  "kernelspec": {
   "display_name": ".venv",
   "language": "python",
   "name": "python3"
  },
  "language_info": {
   "codemirror_mode": {
    "name": "ipython",
    "version": 3
   },
   "file_extension": ".py",
   "mimetype": "text/x-python",
   "name": "python",
   "nbconvert_exporter": "python",
   "pygments_lexer": "ipython3",
   "version": "3.11.11"
  }
 },
 "nbformat": 4,
 "nbformat_minor": 4
}
