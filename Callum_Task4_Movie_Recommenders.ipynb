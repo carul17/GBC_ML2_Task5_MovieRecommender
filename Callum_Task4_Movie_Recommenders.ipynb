{
 "cells": [
  {
   "cell_type": "markdown",
   "metadata": {},
   "source": [
    "# Movie Recommender Systems\n",
    "\n",
    "This notebook implements various movie recommendation approaches:\n",
    "1. Popularity-based\n",
    "2. Content-based Filtering\n",
    "3. Matrix Factorization\n",
    "4. Collaborative Filtering\n",
    "5. Hybrid Approach"
   ]
  },
  {
   "cell_type": "code",
   "execution_count": 30,
   "metadata": {},
   "outputs": [
    {
     "name": "stdout",
     "output_type": "stream",
     "text": [
      "Using Apple Metal device: mps\n"
     ]
    }
   ],
   "source": [
    "# Import required libraries\n",
    "import pandas as pd\n",
    "import numpy as np\n",
    "from sklearn.feature_extraction.text import TfidfVectorizer\n",
    "from sklearn.decomposition import TruncatedSVD\n",
    "from surprise import Dataset, Reader, SVD\n",
    "import torch\n",
    "import warnings\n",
    "import asyncio\n",
    "from functools import lru_cache\n",
    "from tqdm import tqdm\n",
    "import gc\n",
    "warnings.filterwarnings('ignore')\n",
    "\n",
    "# Setup device and optimizations for Apple Silicon\n",
    "device = torch.device('mps')\n",
    "torch.backends.mps.enable_fallback_kernels = True\n",
    "print(f\"Using Apple Metal device: {device}\")\n",
    "\n",
    "# Advanced caching mechanism\n",
    "class RecommendationCache:\n",
    "    def __init__(self, max_size=1000):\n",
    "        self.cache = {}\n",
    "        self.max_size = max_size\n",
    "    \n",
    "    @lru_cache(maxsize=1000)\n",
    "    def get_movie_features(self, movie_idx):\n",
    "        return self.latent_matrix_gpu[movie_idx]\n",
    "    \n",
    "    def get(self, key):\n",
    "        return self.cache.get(key)\n",
    "    \n",
    "    def set(self, key, value):\n",
    "        if len(self.cache) >= self.max_size:\n",
    "            self.cache.pop(next(iter(self.cache)))\n",
    "        self.cache[key] = value\n",
    "\n",
    "cache = RecommendationCache()"
   ]
  },
  {
   "cell_type": "markdown",
   "metadata": {},
   "source": [
    "## 1. Data Loading and Preprocessing"
   ]
  },
  {
   "cell_type": "code",
   "execution_count": 31,
   "metadata": {},
   "outputs": [
    {
     "name": "stdout",
     "output_type": "stream",
     "text": [
      "Loading movies...\n",
      "Loading ratings...\n"
     ]
    },
    {
     "name": "stderr",
     "output_type": "stream",
     "text": [
      "2it [00:00, 122.37it/s]\n"
     ]
    },
    {
     "name": "stdout",
     "output_type": "stream",
     "text": [
      "Loading tags...\n"
     ]
    },
    {
     "name": "stderr",
     "output_type": "stream",
     "text": [
      "1it [00:00, 705.76it/s]"
     ]
    },
    {
     "name": "stdout",
     "output_type": "stream",
     "text": [
      "Processing tags...\n"
     ]
    },
    {
     "name": "stderr",
     "output_type": "stream",
     "text": [
      "\n"
     ]
    },
    {
     "data": {
      "text/plain": [
       "62"
      ]
     },
     "execution_count": 31,
     "metadata": {},
     "output_type": "execute_result"
    }
   ],
   "source": [
    "# Read datasets in chunks\n",
    "def read_chunked_csv(filename, chunksize=100000):\n",
    "    chunks = []\n",
    "    for chunk in tqdm(pd.read_csv(filename, chunksize=chunksize)):\n",
    "        chunks.append(chunk)\n",
    "    return pd.concat(chunks)\n",
    "\n",
    "print(\"Loading movies...\")\n",
    "movies_df = pd.read_csv('ml-latest-small/movies.csv')\n",
    "\n",
    "print(\"Loading ratings...\")\n",
    "ratings_df = read_chunked_csv('ml-latest-small/ratings.csv')\n",
    "\n",
    "print(\"Loading tags...\")\n",
    "tags_df = read_chunked_csv('ml-latest-small/tags.csv')\n",
    "\n",
    "# Process tags in chunks\n",
    "print(\"Processing tags...\")\n",
    "tags_grouped = tags_df.groupby('movieId')['tag'].apply(\n",
    "    lambda x: ' '.join(x[:1000] if len(x) > 1000 else x)\n",
    ").reset_index()\n",
    "\n",
    "# Merge and clean up\n",
    "movies_with_tags = pd.merge(movies_df, tags_grouped, on='movieId', how='left')\n",
    "movies_with_tags['tag'] = movies_with_tags['tag'].fillna('')\n",
    "\n",
    "# Clean up memory\n",
    "del tags_df, tags_grouped\n",
    "gc.collect()"
   ]
  },
  {
   "cell_type": "markdown",
   "metadata": {},
   "source": [
    "## 2. Popularity-based Recommender"
   ]
  },
  {
   "cell_type": "code",
   "execution_count": 32,
   "metadata": {},
   "outputs": [],
   "source": [
    "def popularity_recommender(n_recommendations=10):\n",
    "    # Calculate mean rating and number of ratings for each movie\n",
    "    movie_stats = ratings_df.groupby('movieId').agg({\n",
    "        'rating': ['count', 'mean']\n",
    "    }).reset_index()\n",
    "    \n",
    "    # Rename columns\n",
    "    movie_stats.columns = ['movieId', 'rating_count', 'rating_mean']\n",
    "    \n",
    "    # Filter movies with minimum number of ratings (e.g., 100)\n",
    "    popular_movies = movie_stats[movie_stats['rating_count'] >= 100]\n",
    "    \n",
    "    # Sort by rating mean and count\n",
    "    popular_movies = popular_movies.sort_values(['rating_mean', 'rating_count'], ascending=[False, False])\n",
    "    \n",
    "    # Get movie titles\n",
    "    recommendations = pd.merge(popular_movies, movies_df, on='movieId')\n",
    "    \n",
    "    return recommendations[['movieId', 'title', 'rating_mean', 'rating_count', 'genres']].head(n_recommendations) "
   ]
  },
  {
   "cell_type": "markdown",
   "metadata": {},
   "source": [
    "## 3. Content-based Filtering"
   ]
  },
  {
   "cell_type": "code",
   "execution_count": 33,
   "metadata": {},
   "outputs": [
    {
     "name": "stdout",
     "output_type": "stream",
     "text": [
      "Creating TF-IDF vectors...\n",
      "Fitting TF-IDF on tags...\n",
      "Converting to GPU tensor...\n",
      "Performing SVD on GPU...\n"
     ]
    },
    {
     "name": "stderr",
     "output_type": "stream",
     "text": [
      "SVD Progress: 100%|██████████| 1/1 [00:00<00:00,  1.63it/s]\n"
     ]
    }
   ],
   "source": [
    "print(\"Creating TF-IDF vectors...\")\n",
    "tfidf = TfidfVectorizer(stop_words='english')\n",
    "print(\"Fitting TF-IDF on tags...\")\n",
    "tfidf_matrix = tfidf.fit_transform(movies_with_tags['tag'])\n",
    "\n",
    "print(\"Converting to GPU tensor...\")\n",
    "tfidf_matrix_gpu = torch.tensor(tfidf_matrix.toarray(), device=device, dtype=torch.float32)  # Use full precision for SVD\n",
    "\n",
    "print(\"Performing SVD on GPU...\")\n",
    "with tqdm(total=1, desc=\"SVD Progress\") as pbar:\n",
    "    U, S, V = torch.svd(tfidf_matrix_gpu)  # Already dense\n",
    "    latent_matrix_gpu = (U[:, :100] @ torch.diag(S[:100])).to(device=device)  # Keep in full precision for stability\n",
    "    pbar.update(1)\n",
    "\n",
    "# Cache for frequently accessed movie features\n",
    "@lru_cache(maxsize=1000)\n",
    "def get_cached_movie_features(movie_idx):\n",
    "    return latent_matrix_gpu[movie_idx]\n",
    "\n",
    "def content_based_recommender(movie_title, n_recommendations=10):\n",
    "    # Get movie index and features from cache\n",
    "    movie_idx = movies_with_tags[movies_with_tags['title'] == movie_title].index[0]\n",
    "    query_vector = get_cached_movie_features(movie_idx)\n",
    "    \n",
    "    # Batch compute similarities using optimized operations\n",
    "    similarities = torch.nn.functional.cosine_similarity(\n",
    "        query_vector.unsqueeze(0).unsqueeze(0),\n",
    "        latent_matrix_gpu.unsqueeze(0)\n",
    "    ).squeeze()\n",
    "    \n",
    "    # Get top recommendations using MPS-optimized topk\n",
    "    _, similar_indices = similarities.topk(n_recommendations + 1)\n",
    "    similar_indices = similar_indices[1:].cpu().numpy()\n",
    "    \n",
    "    # Cache the results\n",
    "    cache.set(f\"content_{movie_title}\", similar_indices)\n",
    "    \n",
    "    recommendations = movies_with_tags.iloc[similar_indices][['movieId', 'title', 'genres']]                                                                      \n",
    "    recommendations['title'] = recommendations['title'].str.ljust(50)                                                                                   \n",
    "    return recommendations  "
   ]
  },
  {
   "cell_type": "markdown",
   "metadata": {},
   "source": [
    "## 4. Matrix Factorization using Surprise"
   ]
  },
  {
   "cell_type": "code",
   "execution_count": 34,
   "metadata": {},
   "outputs": [
    {
     "name": "stdout",
     "output_type": "stream",
     "text": [
      "Training SVD model...\n"
     ]
    },
    {
     "name": "stderr",
     "output_type": "stream",
     "text": [
      "SVD Training: 100%|██████████| 1/1 [00:00<00:00,  4.14it/s]\n"
     ]
    }
   ],
   "source": [
    "print(\"Training SVD model...\")\n",
    "reader = Reader(rating_scale=(0.5, 5))\n",
    "trainset = Dataset.load_from_df(ratings_df[['userId', 'movieId', 'rating']], reader).build_full_trainset()\n",
    "svd_model = SVD(n_factors=100, random_state=17)\n",
    "with tqdm(total=1, desc=\"SVD Training\") as pbar:\n",
    "    svd_model.fit(trainset)\n",
    "    pbar.update(1)\n",
    "\n",
    "# Convert SVD matrices to GPU tensors once\n",
    "svd_pu = torch.tensor(svd_model.pu, device=device, dtype=torch.float32)\n",
    "svd_qi = torch.tensor(svd_model.qi, device=device, dtype=torch.float32)\n",
    "svd_bu = torch.tensor(svd_model.bu, device=device, dtype=torch.float32)\n",
    "svd_bi = torch.tensor(svd_model.bi, device=device, dtype=torch.float32)\n",
    "svd_mu = torch.tensor([svd_model.trainset.global_mean], device=device, dtype=torch.float32)\n",
    "\n",
    "def matrix_factorization_recommender(user_id, n_recommendations=10):\n",
    "    # Get all movies that are in the trainset\n",
    "    all_movies = set(svd_model.trainset._raw2inner_id_items.keys())\n",
    "    \n",
    "    # Get user's rated movies\n",
    "    rated_movies = ratings_df[ratings_df['userId'] == user_id]['movieId'].unique()\n",
    "    \n",
    "    # Get unrated movies that are in the trainset\n",
    "    unrated_movies = np.array(list(all_movies - set(rated_movies)))\n",
    "    \n",
    "    # Get user index in SVD model\n",
    "    user_inner_id = svd_model.trainset.to_inner_uid(user_id)\n",
    "    \n",
    "    # Get movie indices in SVD model (all are guaranteed to be in trainset now)\n",
    "    movie_inner_ids = unrated_movies  # Already in inner ids from trainset\n",
    "    \n",
    "    # Convert to GPU tensors\n",
    "    user_factors = svd_pu[user_inner_id]\n",
    "    movie_factors = svd_qi[movie_inner_ids]\n",
    "    user_bias = svd_bu[user_inner_id]\n",
    "    movie_biases = svd_bi[movie_inner_ids]\n",
    "    \n",
    "    # Calculate predictions on GPU\n",
    "    predictions = torch.matmul(user_factors, movie_factors.T) + user_bias + movie_biases + svd_mu\n",
    "    \n",
    "    # Get top recommendations\n",
    "    _, indices = torch.topk(predictions, n_recommendations)\n",
    "    recommended_movie_ids = [unrated_movies[idx] for idx in indices.cpu().numpy()]\n",
    "    \n",
    "    # Get recommended movies\n",
    "    recommended_movies = movies_df[movies_df['movieId'].isin(recommended_movie_ids)]\n",
    "    return recommended_movies[['movieId', 'title', 'genres']]"
   ]
  },
  {
   "cell_type": "markdown",
   "metadata": {},
   "source": [
    "## 5. Collaborative Filtering"
   ]
  },
  {
   "cell_type": "code",
   "execution_count": 35,
   "metadata": {},
   "outputs": [
    {
     "name": "stdout",
     "output_type": "stream",
     "text": [
      "Creating user-movie matrix...\n",
      "Performing collaborative filtering SVD...\n"
     ]
    },
    {
     "name": "stderr",
     "output_type": "stream",
     "text": [
      "SVD Progress: 100%|██████████| 1/1 [00:00<00:00,  3.70it/s]\n"
     ]
    }
   ],
   "source": [
    "print(\"Creating user-movie matrix...\")\n",
    "user_movie_matrix = ratings_df.pivot(index='userId', columns='movieId', values='rating').fillna(0)\n",
    "\n",
    "print(\"Performing collaborative filtering SVD...\")\n",
    "with tqdm(total=1, desc=\"SVD Progress\") as pbar:\n",
    "    svd_collab = TruncatedSVD(n_components=100)\n",
    "    latent_matrix_2 = svd_collab.fit_transform(user_movie_matrix)\n",
    "    pbar.update(1)\n",
    "\n",
    "# Convert matrices to GPU tensors once\n",
    "latent_matrix_2_gpu = torch.tensor(latent_matrix_2, device=device, dtype=torch.float32)\n",
    "components_gpu = torch.tensor(svd_collab.components_, device=device, dtype=torch.float32)\n",
    "\n",
    "def collaborative_recommender(user_id, n_recommendations=10):\n",
    "    # Get user's latent features\n",
    "    user_idx = user_movie_matrix.index.get_loc(user_id)\n",
    "    user_features = latent_matrix_2_gpu[user_idx]\n",
    "    user_ratings = torch.tensor(user_movie_matrix.loc[user_id].values, device=device, dtype=torch.float32)\n",
    "    \n",
    "    # Calculate predicted ratings on GPU\n",
    "    predicted_ratings = torch.matmul(user_features, components_gpu)\n",
    "    \n",
    "    # Create mask for unrated movies\n",
    "    unrated_mask = (user_ratings == 0)\n",
    "    \n",
    "    # Set rated movies to negative infinity to exclude them\n",
    "    predictions = predicted_ratings.clone()\n",
    "    predictions[~unrated_mask] = float('-inf')\n",
    "    \n",
    "    # Get top recommendations\n",
    "    _, indices = torch.topk(predictions, n_recommendations)\n",
    "    top_movie_ids = user_movie_matrix.columns[indices.cpu().numpy()]\n",
    "    \n",
    "    # Get recommended movies\n",
    "    recommendations = movies_df[movies_df['movieId'].isin(top_movie_ids)]\n",
    "    return recommendations[['movieId', 'title', 'genres']]  "
   ]
  },
  {
   "cell_type": "markdown",
   "metadata": {},
   "source": [
    "## 6. Hybrid Recommender"
   ]
  },
  {
   "cell_type": "code",
   "execution_count": 36,
   "metadata": {},
   "outputs": [],
   "source": [
    "async def compute_content_scores(movie_idx, all_movie_features):\n",
    "    query_vector = get_cached_movie_features(movie_idx)\n",
    "    return torch.nn.functional.cosine_similarity(\n",
    "        query_vector.unsqueeze(0).unsqueeze(0),\n",
    "        all_movie_features.unsqueeze(0)\n",
    "    ).squeeze()\n",
    "\n",
    "async def compute_collab_scores(user_features, components_gpu):\n",
    "    return torch.matmul(user_features, components_gpu)\n",
    "\n",
    "async def compute_mf_scores(user_inner_id, user_factors, all_movie_factors, all_movie_biases):\n",
    "    return torch.matmul(user_factors, all_movie_factors.T) + svd_bu[user_inner_id] + all_movie_biases + svd_mu\n",
    "\n",
    "async def hybrid_recommender(user_id, movie_title, n_recommendations=10):\n",
    "    # Get movie index for content-based\n",
    "    movie_idx = movies_with_tags[movies_with_tags['title'] == movie_title].index[0]\n",
    "    \n",
    "    # Get user features for collaborative\n",
    "    user_idx = user_movie_matrix.index.get_loc(user_id)\n",
    "    user_features = latent_matrix_2_gpu[user_idx]\n",
    "    user_ratings = torch.tensor(user_movie_matrix.loc[user_id].values, device=device, dtype=torch.float32)\n",
    "    \n",
    "    # Get all valid movie indices\n",
    "    all_movies = set(svd_model.trainset._raw2inner_id_items.keys())\n",
    "    rated_movies = ratings_df[ratings_df['userId'] == user_id]['movieId'].unique()\n",
    "    unrated_movies = np.array(list(all_movies - set(rated_movies)))\n",
    "    \n",
    "    # Map movie IDs to indices\n",
    "    movie_id_to_idx = {mid: idx for idx, mid in enumerate(movies_df['movieId'])}\n",
    "    movie_indices = np.array([movie_id_to_idx[mid] for mid in unrated_movies])\n",
    "    \n",
    "    # Get all movie features first\n",
    "    all_movie_features = latent_matrix_gpu\n",
    "    \n",
    "    # Run all predictions concurrently\n",
    "    user_inner_id = svd_model.trainset.to_inner_uid(user_id)\n",
    "    user_factors = svd_pu[user_inner_id]\n",
    "    all_movie_factors = svd_qi\n",
    "    all_movie_biases = svd_bi\n",
    "    \n",
    "    content_task = compute_content_scores(movie_idx, all_movie_features)\n",
    "    collab_task = compute_collab_scores(user_features, components_gpu)\n",
    "    mf_task = compute_mf_scores(user_inner_id, user_factors, all_movie_factors, all_movie_biases)\n",
    "    \n",
    "    # Wait for all tasks to complete\n",
    "    all_content_similarities, all_collab_predictions, all_mf_predictions = await asyncio.gather(\n",
    "        content_task, collab_task, mf_task\n",
    "    )\n",
    "    \n",
    "    # Extract scores for unrated movies only\n",
    "    content_similarities = all_content_similarities[movie_indices]\n",
    "    collab_predictions = all_collab_predictions[movie_indices]\n",
    "    mf_predictions = all_mf_predictions[movie_indices]\n",
    "    \n",
    "    # Verify tensor sizes match\n",
    "    print(f\"Sizes - Content: {content_similarities.size()}, Collab: {collab_predictions.size()}, MF: {mf_predictions.size()}\")\n",
    "    \n",
    "    # Normalize scores to [0,1] range for each set of predictions\n",
    "    content_scores = (content_similarities - content_similarities.min()) / (content_similarities.max() - content_similarities.min())\n",
    "    collab_scores = (collab_predictions - collab_predictions.min()) / (collab_predictions.max() - collab_predictions.min())\n",
    "    mf_scores = (mf_predictions - mf_predictions.min()) / (mf_predictions.max() - mf_predictions.min())\n",
    "    \n",
    "    # Combine scores with weights\n",
    "    combined_scores = content_scores * 0.3 + collab_scores * 0.4 + mf_scores * 0.3\n",
    "    \n",
    "    # Get top recommendations\n",
    "    _, top_indices = combined_scores.topk(n_recommendations)\n",
    "    top_indices = top_indices.cpu().numpy()\n",
    "    \n",
    "    # Get recommended movies\n",
    "    recommended_movie_ids = unrated_movies[top_indices]\n",
    "    recommended_movies = movies_df[movies_df['movieId'].isin(recommended_movie_ids)].copy()\n",
    "    recommended_movies['scores'] = combined_scores[top_indices].cpu().numpy()\n",
    "    recommended_movies['content_score'] = content_scores[top_indices].cpu().numpy()\n",
    "    recommended_movies['collab_score'] = collab_scores[top_indices].cpu().numpy()\n",
    "    recommended_movies['mf_score'] = mf_scores[top_indices].cpu().numpy()\n",
    "    \n",
    "    # Cache the results\n",
    "    cache.set(f\"hybrid_{user_id}_{movie_title}\", recommended_movie_ids)\n",
    "    \n",
    "    return recommended_movies.sort_values('scores', ascending=False)"
   ]
  },
  {
   "cell_type": "markdown",
   "metadata": {},
   "source": [
    "## 7. Evaluation Metrics\n",
    "\n",
    "The following metrics show predicted ratings for recommended movies to help evaluate recommendation quality."
   ]
  },
  {
   "cell_type": "code",
   "execution_count": 37,
   "metadata": {},
   "outputs": [
    {
     "name": "stdout",
     "output_type": "stream",
     "text": [
      "Popular Movies:\n",
      "|   movieId | title                            |   rating_mean |   rating_count | genres                                  |   predicted_rating |\n",
      "|----------:|:---------------------------------|--------------:|---------------:|:----------------------------------------|-------------------:|\n",
      "|       318 | Shawshank Redemption, The (1994) |       4.42902 |            317 | Crime|Drama                             |               5    |\n",
      "|       858 | Godfather, The (1972)            |       4.28906 |            192 | Crime|Drama                             |               5    |\n",
      "|      2959 | Fight Club (1999)                |       4.27294 |            218 | Action|Crime|Drama|Thriller             |               4.93 |\n",
      "|      1221 | Godfather: Part II, The (1974)   |       4.25969 |            129 | Crime|Drama                             |               4.97 |\n",
      "|     48516 | Departed, The (2006)             |       4.25234 |            107 | Crime|Drama|Thriller                    |               4.99 |\n",
      "|      1213 | Goodfellas (1990)                |       4.25    |            126 | Crime|Drama                             |               4.86 |\n",
      "|       912 | Casablanca (1942)                |       4.24    |            100 | Drama|Romance                           |               5    |\n",
      "|     58559 | Dark Knight, The (2008)          |       4.23826 |            149 | Action|Crime|Drama|IMAX                 |               4.98 |\n",
      "|        50 | Usual Suspects, The (1995)       |       4.23775 |            204 | Crime|Mystery|Thriller                  |               4.87 |\n",
      "|      1197 | Princess Bride, The (1987)       |       4.23239 |            142 | Action|Adventure|Comedy|Fantasy|Romance |               4.93 |\n",
      "\n",
      "Content-based Recommendations for 'Toy Story (1995)':\n",
      "|   movieId | title                                | genres                                      |   predicted_rating |\n",
      "|----------:|:-------------------------------------|:--------------------------------------------|-------------------:|\n",
      "|         1 | Toy Story (1995)                     | Adventure|Animation|Children|Comedy|Fantasy |               4.58 |\n",
      "|         6 | Heat (1995)                          | Action|Crime|Thriller                       |               4.41 |\n",
      "|        14 | Nixon (1995)                         | Drama                                       |               4.62 |\n",
      "|         7 | Sabrina (1995)                       | Comedy|Romance                              |               3.94 |\n",
      "|         3 | Grumpier Old Men (1995)              | Comedy|Romance                              |               4.03 |\n",
      "|         4 | Waiting to Exhale (1995)             | Comedy|Drama|Romance                        |               3.66 |\n",
      "|         2 | Jumanji (1995)                       | Adventure|Children|Fantasy                  |               4.32 |\n",
      "|         5 | Father of the Bride Part II (1995)   | Comedy                                      |               3.94 |\n",
      "|        46 | How to Make an American Quilt (1995) | Drama|Romance                               |               4.07 |\n",
      "|        41 | Richard III (1995)                   | Drama|War                                   |               4.57 |\n",
      "\n",
      "Collaborative Filtering Recommendations for user 1:\n",
      "|   movieId | title                                                                       | genres                                   |   predicted_rating |\n",
      "|----------:|:----------------------------------------------------------------------------|:-----------------------------------------|-------------------:|\n",
      "|        16 | Casino (1995)                                                               | Crime|Drama                              |               4.74 |\n",
      "|       455 | Free Willy (1993)                                                           | Adventure|Children|Drama                 |               3.55 |\n",
      "|       594 | Snow White and the Seven Dwarfs (1937)                                      | Animation|Children|Drama|Fantasy|Musical |               4.53 |\n",
      "|       750 | Dr. Strangelove or: How I Learned to Stop Worrying and Love the Bomb (1964) | Comedy|War                               |               4.98 |\n",
      "|      1262 | Great Escape, The (1963)                                                    | Action|Adventure|Drama|War               |               5    |\n",
      "|      1639 | Chasing Amy (1997)                                                          | Comedy|Drama|Romance                     |               4.38 |\n",
      "|      1923 | There's Something About Mary (1998)                                         | Comedy|Romance                           |               4.42 |\n",
      "|      1947 | West Side Story (1961)                                                      | Drama|Musical|Romance                    |               4.51 |\n",
      "|      1961 | Rain Man (1988)                                                             | Drama                                    |               4.59 |\n",
      "|      5010 | Black Hawk Down (2001)                                                      | Action|Drama|War                         |               4.46 |\n",
      "\n",
      "Matrix Factorization Recommendations for user 1:\n",
      "|   movieId | title                                                 | genres                           |   predicted_rating |\n",
      "|----------:|:------------------------------------------------------|:---------------------------------|-------------------:|\n",
      "|     84716 | Castaway on the Moon (Kimssi pyoryugi) (2009)         | Comedy|Drama|Romance             |               4.29 |\n",
      "|     87287 | American Grindhouse (2010)                            | Documentary                      |               4.33 |\n",
      "|    102716 | Fast & Furious 6 (Fast and the Furious 6, The) (2013) | Action|Crime|Thriller|IMAX       |               4.27 |\n",
      "|    110127 | Noah (2014)                                           | Adventure|Drama|IMAX             |               4.06 |\n",
      "|    113252 | Housebound (2014)                                     | Comedy|Horror|Thriller           |               4.41 |\n",
      "|    113416 | Revenge of the Green Dragons (2014)                   | Action|Crime|Drama               |               4.2  |\n",
      "|    115216 | Salvation, The (2014)                                 | Drama|Western                    |               4.28 |\n",
      "|    125916 | Fifty Shades of Grey (2015)                           | Drama|Romance                    |               3.77 |\n",
      "|    135216 | The Star Wars Holiday Special (1978)                  | Adventure|Children|Comedy|Sci-Fi |               4.09 |\n",
      "|    140016 | Always Watching: A Marble Hornets Story (2015)        | Horror                           |               4.23 |\n",
      "\n",
      "Hybrid Recommendations for user 1 and 'Toy Story (1995)':\n"
     ]
    },
    {
     "ename": "RuntimeError",
     "evalue": "Cannot run the event loop while another loop is running",
     "output_type": "error",
     "traceback": [
      "\u001b[31m---------------------------------------------------------------------------\u001b[39m",
      "\u001b[31mRuntimeError\u001b[39m                              Traceback (most recent call last)",
      "\u001b[36mCell\u001b[39m\u001b[36m \u001b[39m\u001b[32mIn[37]\u001b[39m\u001b[32m, line 44\u001b[39m\n\u001b[32m     42\u001b[39m loop = asyncio.new_event_loop()\n\u001b[32m     43\u001b[39m asyncio.set_event_loop(loop)\n\u001b[32m---> \u001b[39m\u001b[32m44\u001b[39m result = \u001b[43mloop\u001b[49m\u001b[43m.\u001b[49m\u001b[43mrun_until_complete\u001b[49m\u001b[43m(\u001b[49m\u001b[43mhybrid_recommender\u001b[49m\u001b[43m(\u001b[49m\u001b[43muser_id\u001b[49m\u001b[43m,\u001b[49m\u001b[43m \u001b[49m\u001b[43mmovie_title\u001b[49m\u001b[43m)\u001b[49m\u001b[43m)\u001b[49m\n\u001b[32m     45\u001b[39m loop.close()\n\u001b[32m     46\u001b[39m display_recommendations(result, user_id=user_id)\n",
      "\u001b[36mFile \u001b[39m\u001b[32m/opt/homebrew/Cellar/python@3.11/3.11.11/Frameworks/Python.framework/Versions/3.11/lib/python3.11/asyncio/base_events.py:630\u001b[39m, in \u001b[36mBaseEventLoop.run_until_complete\u001b[39m\u001b[34m(self, future)\u001b[39m\n\u001b[32m    619\u001b[39m \u001b[38;5;250m\u001b[39m\u001b[33;03m\"\"\"Run until the Future is done.\u001b[39;00m\n\u001b[32m    620\u001b[39m \n\u001b[32m    621\u001b[39m \u001b[33;03mIf the argument is a coroutine, it is wrapped in a Task.\u001b[39;00m\n\u001b[32m   (...)\u001b[39m\u001b[32m    627\u001b[39m \u001b[33;03mReturn the Future's result, or raise its exception.\u001b[39;00m\n\u001b[32m    628\u001b[39m \u001b[33;03m\"\"\"\u001b[39;00m\n\u001b[32m    629\u001b[39m \u001b[38;5;28mself\u001b[39m._check_closed()\n\u001b[32m--> \u001b[39m\u001b[32m630\u001b[39m \u001b[38;5;28;43mself\u001b[39;49m\u001b[43m.\u001b[49m\u001b[43m_check_running\u001b[49m\u001b[43m(\u001b[49m\u001b[43m)\u001b[49m\n\u001b[32m    632\u001b[39m new_task = \u001b[38;5;129;01mnot\u001b[39;00m futures.isfuture(future)\n\u001b[32m    633\u001b[39m future = tasks.ensure_future(future, loop=\u001b[38;5;28mself\u001b[39m)\n",
      "\u001b[36mFile \u001b[39m\u001b[32m/opt/homebrew/Cellar/python@3.11/3.11.11/Frameworks/Python.framework/Versions/3.11/lib/python3.11/asyncio/base_events.py:591\u001b[39m, in \u001b[36mBaseEventLoop._check_running\u001b[39m\u001b[34m(self)\u001b[39m\n\u001b[32m    589\u001b[39m     \u001b[38;5;28;01mraise\u001b[39;00m \u001b[38;5;167;01mRuntimeError\u001b[39;00m(\u001b[33m'\u001b[39m\u001b[33mThis event loop is already running\u001b[39m\u001b[33m'\u001b[39m)\n\u001b[32m    590\u001b[39m \u001b[38;5;28;01mif\u001b[39;00m events._get_running_loop() \u001b[38;5;129;01mis\u001b[39;00m \u001b[38;5;129;01mnot\u001b[39;00m \u001b[38;5;28;01mNone\u001b[39;00m:\n\u001b[32m--> \u001b[39m\u001b[32m591\u001b[39m     \u001b[38;5;28;01mraise\u001b[39;00m \u001b[38;5;167;01mRuntimeError\u001b[39;00m(\n\u001b[32m    592\u001b[39m         \u001b[33m'\u001b[39m\u001b[33mCannot run the event loop while another loop is running\u001b[39m\u001b[33m'\u001b[39m)\n",
      "\u001b[31mRuntimeError\u001b[39m: Cannot run the event loop while another loop is running"
     ]
    }
   ],
   "source": [
    "# Set pandas display options for wide tables\n",
    "from tabulate import tabulate\n",
    "pd.set_option('display.max_columns', None)\n",
    "pd.set_option('display.width', None)\n",
    "pd.set_option('display.max_colwidth', None)\n",
    "\n",
    "def predict_ratings(user_id, movie_ids):\n",
    "    \"\"\"Predict ratings for given user and movies using SVD model\"\"\"\n",
    "    predictions = []\n",
    "    for movie_id in movie_ids:\n",
    "        try:\n",
    "            pred = svd_model.predict(user_id, movie_id).est\n",
    "            predictions.append(round(pred, 2))\n",
    "        except:\n",
    "            predictions.append(None)\n",
    "    return predictions\n",
    "\n",
    "def display_recommendations(df, show_index=False, user_id=None):\n",
    "    \"\"\"Display recommendations with predicted ratings if user_id is provided\"\"\"\n",
    "    if user_id is not None and 'movieId' in df.columns:\n",
    "        df = df.copy()\n",
    "        df['predicted_rating'] = predict_ratings(user_id, df['movieId'])\n",
    "    print(tabulate(df, headers='keys', tablefmt='pipe', showindex=show_index))\n",
    "\n",
    "# Example usage with recommendations and predicted ratings\n",
    "user_id = 1\n",
    "movie_title = 'Toy Story (1995)'\n",
    "\n",
    "print(\"Popular Movies:\")\n",
    "display_recommendations(popularity_recommender(), user_id=user_id)\n",
    "\n",
    "print(\"\\nContent-based Recommendations for 'Toy Story (1995)':\")\n",
    "display_recommendations(content_based_recommender(movie_title), user_id=user_id)\n",
    "\n",
    "print(\"\\nCollaborative Filtering Recommendations for user 1:\")\n",
    "display_recommendations(collaborative_recommender(user_id), user_id=user_id)\n",
    "\n",
    "print(\"\\nMatrix Factorization Recommendations for user 1:\")\n",
    "display_recommendations(matrix_factorization_recommender(user_id), user_id=user_id)\n",
    "\n",
    "print(\"\\nHybrid Recommendations for user 1 and 'Toy Story (1995)':\")\n",
    "try:\n",
    "    loop = asyncio.get_event_loop()\n",
    "except RuntimeError:\n",
    "    loop = asyncio.new_event_loop()\n",
    "    asyncio.set_event_loop(loop)\n",
    "result = loop.run_until_complete(hybrid_recommender(user_id, movie_title))\n",
    "display_recommendations(result, user_id=user_id)"
   ]
  }
 ],
 "metadata": {
  "kernelspec": {
   "display_name": ".venv",
   "language": "python",
   "name": "python3"
  },
  "language_info": {
   "codemirror_mode": {
    "name": "ipython",
    "version": 3
   },
   "file_extension": ".py",
   "mimetype": "text/x-python",
   "name": "python",
   "nbconvert_exporter": "python",
   "pygments_lexer": "ipython3",
   "version": "3.11.11"
  }
 },
 "nbformat": 4,
 "nbformat_minor": 4
}
